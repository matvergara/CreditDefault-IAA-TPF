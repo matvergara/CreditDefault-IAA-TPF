{
  "cells": [
    {
      "cell_type": "markdown",
      "metadata": {
        "id": "5XxNnkamvPhB"
      },
      "source": [
        "Este conjunto de datos contiene observaciones de pago de clientes de un banco taiwanés en el año 2005, incluyendo variables demográficas (genero, estado civil, edad, nivel educativo), variables categoricas que describen el estado de pago de un mes dado para el periodo Abril-Septiembre y variables numéricas que describen tanto la factura a pagar en cada uno de esos meses como el pago efectivo realizado por la persona en dicho mes. También se incluye la linea de crédito de la persona y un estado binario para el mes de octubre que indica si la persona pago su resumen en ese mes. A continuación describimos con más detalle las variables:\n",
        "- `LIMIT BAL`: límite de crédito otorgado (dolares taiwaneses [NT dolar])\n",
        "- `SEX`: género  (1 = masculino; 2 = femenino)\n",
        "- `EDUCATION`: nivel educativo (1 = posgrado; 2 = universidad; 3 = escuela secundaria; 4 = otros)\n",
        "- `MARRIAGE`: estado civil (1 = casado; 2 = soltero; 3 = otros)\n",
        "- `AGE`: edad\n",
        "- `PAY_0` a `PAY_6`: estado de pago de los últimos 6 meses (septiembre-abril)\n",
        "  - -2 = Pago el total del balance, y no tuvo mas consumos en el mes *\n",
        "  - -1 = usó crédito y pago el total a tiempo\n",
        "  -  0 = usó crédito pero hizo un pago minimo (no entró en mora) *\n",
        "  - Escala de n en [1;9+]: atrasado n meses\n",
        "- `BILL_AMT0` a `BILL_AMT6`: monto facturado en los últimos 6 meses\n",
        "- `PAY_AMT0` a `PAY_AMT6`: monto pagado en los últimos 6 meses\n",
        "- `default payment next month`: estado de default en octubre (1 = default; 0 = no default)\n",
        "\n",
        "El dataset que obtuvimos desde [UCI Irvine Machine Learning Repository](https://archive.ics.uci.edu/dataset/350/default+of+credit+card+clients), fue recolectado por los autores (Yeh y Lien, 2009) con el objetivo de evaluar la precisión predictiva de la probabilidad de default a través de distintos metodos de minería de datos.\n",
        "\n",
        "Mas concretamente, la motivación de los creadores del dataset fue estudiar la crisis de deudas impagas en tarjetas de crédito que enfrento Taiwán en el año 2005, que alcanzó su pico máximo en el tercer trimestre de 2006, con el objetivo de evaluar metodos para mejorar el manejo de riesgo en el ámbito financiero. Es por eso que el dataset contiene observaciones del segundo y tercer cuarto de 2005.\n",
        "\n",
        "En nuestro caso particular, decidimos iniciar el trabajo utilizando el limite de crédito, las variables demográficas, y las variables mensuales correspondientes a septiembre.\n",
        "\n",
        "> *: Esta información no aparece en la documentación oficial, la encontramos en un foro de Kaggle en una discusión a partir de una pregunta al creador del dataset: https://www.kaggle.com/datasets/uciml/default-of-credit-card-clients-dataset/discussion/34608"
      ]
    },
    {
      "cell_type": "markdown",
      "metadata": {},
      "source": [
        "---"
      ]
    },
    {
      "cell_type": "code",
      "execution_count": 1,
      "metadata": {},
      "outputs": [],
      "source": [
        "import sys\n",
        "import os\n",
        "\n",
        "# Agrega la raíz del proyecto al path\n",
        "sys.path.append(os.path.abspath(os.path.join(os.getcwd(), '..')))"
      ]
    },
    {
      "cell_type": "code",
      "execution_count": 2,
      "metadata": {
        "cellView": "form",
        "id": "V_PJ0jFAnf3g"
      },
      "outputs": [],
      "source": [
        "import src.data.preprocess as pp\n",
        "import src.data.load_data as ld\n",
        "import pandas as pd\n",
        "import matplotlib.pyplot as plt\n",
        "import seaborn as sns"
      ]
    },
    {
      "cell_type": "markdown",
      "metadata": {},
      "source": [
        "Inicialmente el dataset contaba con 30000 y 25 variables. Luego de modificar los nombres de las columnas, traduciendolos al español para mejorar la interpretabilidad, comenzamos a explorar el dataframe con el objetivo de entender los datos."
      ]
    },
    {
      "cell_type": "code",
      "execution_count": 3,
      "metadata": {},
      "outputs": [
        {
          "data": {
            "text/plain": [
              "(30000, 25)"
            ]
          },
          "execution_count": 3,
          "metadata": {},
          "output_type": "execute_result"
        }
      ],
      "source": [
        "df = ld.load_raw_data()\n",
        "df.shape"
      ]
    },
    {
      "cell_type": "code",
      "execution_count": 4,
      "metadata": {
        "cellView": "form",
        "id": "Nmx42bJW22Q4"
      },
      "outputs": [
        {
          "data": {
            "text/plain": [
              "(30000, 24)"
            ]
          },
          "execution_count": 4,
          "metadata": {},
          "output_type": "execute_result"
        }
      ],
      "source": [
        "# Eliminamos la columna ID porque no suma a nuestro análisis\n",
        "\n",
        "df = pp.eliminar_id(df)\n",
        "df.shape"
      ]
    },
    {
      "cell_type": "code",
      "execution_count": 5,
      "metadata": {
        "cellView": "form",
        "id": "rxhkJAlJ7HwL"
      },
      "outputs": [
        {
          "name": "stdout",
          "output_type": "stream",
          "text": [
            "Columnas originales: Index(['LIMIT_BAL', 'SEX', 'EDUCATION', 'MARRIAGE', 'AGE', 'PAY_0', 'PAY_2',\n",
            "       'PAY_3', 'PAY_4', 'PAY_5', 'PAY_6', 'BILL_AMT1', 'BILL_AMT2',\n",
            "       'BILL_AMT3', 'BILL_AMT4', 'BILL_AMT5', 'BILL_AMT6', 'PAY_AMT1',\n",
            "       'PAY_AMT2', 'PAY_AMT3', 'PAY_AMT4', 'PAY_AMT5', 'PAY_AMT6',\n",
            "       'default payment next month'],\n",
            "      dtype='object')\n",
            "Columnas modificadas: Index(['limite_credito', 'genero', 'educacion', 'estado_civil', 'edad',\n",
            "       'meses_deuda_abr', 'meses_deuda_may', 'meses_deuda_jun',\n",
            "       'meses_deuda_jul', 'meses_deuda_ago', 'meses_deuda_sep', 'pago_abr',\n",
            "       'pago_may', 'pago_jun', 'pago_jul', 'pago_ago', 'pago_sep',\n",
            "       'factura_abr', 'factura_may', 'factura_jun', 'factura_jul',\n",
            "       'factura_ago', 'factura_sep', 'default_oct'],\n",
            "      dtype='object')\n"
          ]
        }
      ],
      "source": [
        "# Definimos una lista con los nombres de los meses y renombramos las columnas para mejorar la interpretabilidad\n",
        "\n",
        "print(f'Columnas originales: {df.columns}')\n",
        "df = pp.renombrar_columnas(df)\n",
        "print(f'Columnas modificadas: {df.columns}')"
      ]
    },
    {
      "cell_type": "markdown",
      "metadata": {
        "id": "oLUQxEZ17_6j"
      },
      "source": [
        "Descubrimos que algunas variables contenian observaciones con categorías mal documentadas. La variable `educacion`, por ejemplo, estaba codificada para valores de 1, 2, 3, 4 representando esta última la categoría 'otros'. Concretamente, encontramos 345 observaciones mal catalogadas (valores de 0, 5 o 6). Ante la falta de documentación por parte del autor, decidimos catalogar estos casos como 'otros', es decir, como 4. La variable `estado_civil` presentaba un problema similar, ya que tomaba como posibles valores de 1, 2 o 3 pero tenía 54 observaciones etiquetadas como 0. Nuevamente, no encontramos información adicional que describa ese valor, asi que asignamos ese conjunto a la categoría 'otros' representada con el 3."
      ]
    },
    {
      "cell_type": "code",
      "execution_count": 6,
      "metadata": {},
      "outputs": [
        {
          "data": {
            "application/vnd.microsoft.datawrangler.viewer.v0+json": {
              "columns": [
                {
                  "name": "educacion",
                  "rawType": "int64",
                  "type": "integer"
                },
                {
                  "name": "count",
                  "rawType": "int64",
                  "type": "integer"
                }
              ],
              "ref": "ce69306a-abef-442f-a174-8d3b4e2e0253",
              "rows": [
                [
                  "0",
                  "14"
                ],
                [
                  "1",
                  "10585"
                ],
                [
                  "2",
                  "14030"
                ],
                [
                  "3",
                  "4917"
                ],
                [
                  "4",
                  "123"
                ],
                [
                  "5",
                  "280"
                ],
                [
                  "6",
                  "51"
                ]
              ],
              "shape": {
                "columns": 1,
                "rows": 7
              }
            },
            "text/plain": [
              "educacion\n",
              "0       14\n",
              "1    10585\n",
              "2    14030\n",
              "3     4917\n",
              "4      123\n",
              "5      280\n",
              "6       51\n",
              "Name: count, dtype: int64"
            ]
          },
          "execution_count": 6,
          "metadata": {},
          "output_type": "execute_result"
        }
      ],
      "source": [
        "frecuencias = df['educacion'].value_counts().sort_index()\n",
        "frecuencias"
      ]
    },
    {
      "cell_type": "code",
      "execution_count": 7,
      "metadata": {},
      "outputs": [
        {
          "data": {
            "application/vnd.microsoft.datawrangler.viewer.v0+json": {
              "columns": [
                {
                  "name": "estado_civil",
                  "rawType": "int64",
                  "type": "integer"
                },
                {
                  "name": "count",
                  "rawType": "int64",
                  "type": "integer"
                }
              ],
              "ref": "6448a0da-ad11-4051-9300-4c1034f03732",
              "rows": [
                [
                  "0",
                  "54"
                ],
                [
                  "1",
                  "13659"
                ],
                [
                  "2",
                  "15964"
                ],
                [
                  "3",
                  "323"
                ]
              ],
              "shape": {
                "columns": 1,
                "rows": 4
              }
            },
            "text/plain": [
              "estado_civil\n",
              "0       54\n",
              "1    13659\n",
              "2    15964\n",
              "3      323\n",
              "Name: count, dtype: int64"
            ]
          },
          "execution_count": 7,
          "metadata": {},
          "output_type": "execute_result"
        }
      ],
      "source": [
        "frecuencias = df['estado_civil'].value_counts().sort_index()\n",
        "frecuencias"
      ]
    },
    {
      "cell_type": "code",
      "execution_count": 8,
      "metadata": {},
      "outputs": [],
      "source": [
        "# Modificamos la clase a la que pertencían las observaciones no documentadas\n",
        "\n",
        "df = pp.normalizar_categorias(df)"
      ]
    },
    {
      "cell_type": "markdown",
      "metadata": {},
      "source": [
        "A su vez, descubrimos algunas inconsistencias en el dataset. En primer lugar, notamos que para algunos registros habían saltos en la cantidad de meses adeudados que no tenían lógica; algunos clientes pasaban de estar al día en un mes dado, a deber dos meses en el mes siguiente, como puede observarse en el registro 39 de la tabla para el par `meses_deuda_may` y `meses_deuda_jun`."
      ]
    },
    {
      "cell_type": "code",
      "execution_count": 9,
      "metadata": {},
      "outputs": [
        {
          "name": "stdout",
          "output_type": "stream",
          "text": [
            "Registros eliminados por inconsistencias de deuda: 1739\n"
          ]
        },
        {
          "data": {
            "text/plain": [
              "(28261, 24)"
            ]
          },
          "execution_count": 9,
          "metadata": {},
          "output_type": "execute_result"
        }
      ],
      "source": [
        "# Filtramos las inconsistencias mencionadas\n",
        "\n",
        "df = pp.filtrar_inconsistencias_deuda(df)\n",
        "df.shape"
      ]
    },
    {
      "cell_type": "markdown",
      "metadata": {},
      "source": [
        "Para estos casos, tomamos la decisión de descartar las 1739 observaciones ya que no encontramos una justificación por parte de los autores. Al no saber la causa exacta de la inconsistencia esos hechos ilógicos harían que nuestro modelo aprenda patrones que no tendrían un fundamento en la realidad. \n",
        "\n",
        "Luego nos encontramos con otro caso similar, donde tomamos los registros donde `factura_sep` era menor al `pago_sep` que no presentaban deuda ni habían pagado el mínimo tanto en septiembre como en agosto. Lo lógico sería que un cliente pague un monto mayor al de su factura de un mes dado en casos donde tenga deuda por pagar, es decir, donde esa diferencia equivalga a la deuda pendiente. Por eso nuevamente, para que nuestro modelo no aprenda patrones sobre casos que parecen ilógicos y no pudimos contrastar con la documentación, decidimos eliminar estos 2769 casos.  "
      ]
    },
    {
      "cell_type": "code",
      "execution_count": 10,
      "metadata": {},
      "outputs": [
        {
          "name": "stdout",
          "output_type": "stream",
          "text": [
            "Registros eliminados por inconsistencias factura-pago: 2769\n"
          ]
        },
        {
          "data": {
            "text/plain": [
              "(25492, 24)"
            ]
          },
          "execution_count": 10,
          "metadata": {},
          "output_type": "execute_result"
        }
      ],
      "source": [
        "# Filtramos las inconsistencias mencionadas\n",
        "\n",
        "df = pp.filtrar_inconsistencias_factura_pago(df)\n",
        "df.shape"
      ]
    },
    {
      "cell_type": "markdown",
      "metadata": {},
      "source": [
        "Por ultimo, como mencionamos anteriormente, decidimos trabajar en principio con el mes de septiembre, es por eso que nos quedamos únicamente con las columnas correspondientes al limite de crédito, los aspectos demograficos, la información crediticia de septiembre y los valores de default de octubre. "
      ]
    },
    {
      "cell_type": "code",
      "execution_count": 11,
      "metadata": {
        "cellView": "form",
        "id": "XANCzwd4KVzB"
      },
      "outputs": [
        {
          "data": {
            "text/plain": [
              "(25492, 9)"
            ]
          },
          "execution_count": 11,
          "metadata": {},
          "output_type": "execute_result"
        }
      ],
      "source": [
        "# Seleccionamos las 9 columnas a utilizar\n",
        "\n",
        "df = pp.seleccionar_columnas_septiembre(df)\n",
        "df.shape"
      ]
    },
    {
      "cell_type": "markdown",
      "metadata": {},
      "source": [
        "Como resultado, el dataset con el que vamos a trabajar tiene 25492 filas y 9 columnas."
      ]
    },
    {
      "cell_type": "markdown",
      "metadata": {
        "id": "7fxU5mchmu64"
      },
      "source": [
        "Como puede verse a continuación, no contamos con datos nulos en el dataset. En términos de tipos de datos, todas nuestras variables son numéricas, pero en sentido estricto, las variables `genero`, `educacion`, `estado_civil` y `default_oct` son codificaciones o de estados binarios o de variables con distintas categorías posibles. Por otro lado, `limite_credito`, `edad`, `pago_sep` y `factura_sep` representan valores numéricos reales. Sobre la variable `meses_deuda_sep` hay que tener una consideración distinta, ya que representa para casos donde existe deuda el valor concreto de los meses de deuda acumulados y una representación para estado de pago mínimo (0), otra para pago al día y uso (-1) y otra para tarjeta sin uso (-2). Sobre esto último, tendremos que tomar una decisión sobre como codificar esos valores antes de hacer los modelos."
      ]
    },
    {
      "cell_type": "code",
      "execution_count": null,
      "metadata": {},
      "outputs": [],
      "source": [
        "resumen = pd.DataFrame({\n",
        "    \"nulos\":   df.isna().sum(),\n",
        "    \"dtype\":   df.dtypes.astype(str)\n",
        "}).reindex(df.columns)\n",
        "\n",
        "resumen"
      ]
    },
    {
      "cell_type": "code",
      "execution_count": 12,
      "metadata": {},
      "outputs": [
        {
          "data": {
            "application/vnd.microsoft.datawrangler.viewer.v0+json": {
              "columns": [
                {
                  "name": "index",
                  "rawType": "int64",
                  "type": "integer"
                },
                {
                  "name": "limite_credito",
                  "rawType": "int64",
                  "type": "integer"
                },
                {
                  "name": "genero",
                  "rawType": "int64",
                  "type": "integer"
                },
                {
                  "name": "educacion",
                  "rawType": "int64",
                  "type": "integer"
                },
                {
                  "name": "estado_civil",
                  "rawType": "int64",
                  "type": "integer"
                },
                {
                  "name": "edad",
                  "rawType": "int64",
                  "type": "integer"
                },
                {
                  "name": "meses_deuda_sep",
                  "rawType": "int64",
                  "type": "integer"
                },
                {
                  "name": "pago_sep",
                  "rawType": "int64",
                  "type": "integer"
                },
                {
                  "name": "factura_sep",
                  "rawType": "int64",
                  "type": "integer"
                },
                {
                  "name": "default_oct",
                  "rawType": "int64",
                  "type": "integer"
                }
              ],
              "ref": "171e9c0f-9b2f-43bd-a031-c1e43450c4de",
              "rows": [
                [
                  "0",
                  "20000",
                  "2",
                  "2",
                  "1",
                  "24",
                  "-2",
                  "0",
                  "0",
                  "1"
                ],
                [
                  "2",
                  "90000",
                  "2",
                  "2",
                  "2",
                  "34",
                  "0",
                  "15549",
                  "5000",
                  "0"
                ],
                [
                  "3",
                  "50000",
                  "2",
                  "2",
                  "1",
                  "37",
                  "0",
                  "29547",
                  "1000",
                  "0"
                ],
                [
                  "4",
                  "50000",
                  "1",
                  "2",
                  "1",
                  "57",
                  "0",
                  "19131",
                  "679",
                  "0"
                ],
                [
                  "5",
                  "50000",
                  "1",
                  "1",
                  "2",
                  "37",
                  "0",
                  "20024",
                  "800",
                  "0"
                ]
              ],
              "shape": {
                "columns": 9,
                "rows": 5
              }
            },
            "text/html": [
              "<div>\n",
              "<style scoped>\n",
              "    .dataframe tbody tr th:only-of-type {\n",
              "        vertical-align: middle;\n",
              "    }\n",
              "\n",
              "    .dataframe tbody tr th {\n",
              "        vertical-align: top;\n",
              "    }\n",
              "\n",
              "    .dataframe thead th {\n",
              "        text-align: right;\n",
              "    }\n",
              "</style>\n",
              "<table border=\"1\" class=\"dataframe\">\n",
              "  <thead>\n",
              "    <tr style=\"text-align: right;\">\n",
              "      <th></th>\n",
              "      <th>limite_credito</th>\n",
              "      <th>genero</th>\n",
              "      <th>educacion</th>\n",
              "      <th>estado_civil</th>\n",
              "      <th>edad</th>\n",
              "      <th>meses_deuda_sep</th>\n",
              "      <th>pago_sep</th>\n",
              "      <th>factura_sep</th>\n",
              "      <th>default_oct</th>\n",
              "    </tr>\n",
              "  </thead>\n",
              "  <tbody>\n",
              "    <tr>\n",
              "      <th>0</th>\n",
              "      <td>20000</td>\n",
              "      <td>2</td>\n",
              "      <td>2</td>\n",
              "      <td>1</td>\n",
              "      <td>24</td>\n",
              "      <td>-2</td>\n",
              "      <td>0</td>\n",
              "      <td>0</td>\n",
              "      <td>1</td>\n",
              "    </tr>\n",
              "    <tr>\n",
              "      <th>2</th>\n",
              "      <td>90000</td>\n",
              "      <td>2</td>\n",
              "      <td>2</td>\n",
              "      <td>2</td>\n",
              "      <td>34</td>\n",
              "      <td>0</td>\n",
              "      <td>15549</td>\n",
              "      <td>5000</td>\n",
              "      <td>0</td>\n",
              "    </tr>\n",
              "    <tr>\n",
              "      <th>3</th>\n",
              "      <td>50000</td>\n",
              "      <td>2</td>\n",
              "      <td>2</td>\n",
              "      <td>1</td>\n",
              "      <td>37</td>\n",
              "      <td>0</td>\n",
              "      <td>29547</td>\n",
              "      <td>1000</td>\n",
              "      <td>0</td>\n",
              "    </tr>\n",
              "    <tr>\n",
              "      <th>4</th>\n",
              "      <td>50000</td>\n",
              "      <td>1</td>\n",
              "      <td>2</td>\n",
              "      <td>1</td>\n",
              "      <td>57</td>\n",
              "      <td>0</td>\n",
              "      <td>19131</td>\n",
              "      <td>679</td>\n",
              "      <td>0</td>\n",
              "    </tr>\n",
              "    <tr>\n",
              "      <th>5</th>\n",
              "      <td>50000</td>\n",
              "      <td>1</td>\n",
              "      <td>1</td>\n",
              "      <td>2</td>\n",
              "      <td>37</td>\n",
              "      <td>0</td>\n",
              "      <td>20024</td>\n",
              "      <td>800</td>\n",
              "      <td>0</td>\n",
              "    </tr>\n",
              "  </tbody>\n",
              "</table>\n",
              "</div>"
            ],
            "text/plain": [
              "   limite_credito  genero  educacion  estado_civil  edad  meses_deuda_sep  \\\n",
              "0           20000       2          2             1    24               -2   \n",
              "2           90000       2          2             2    34                0   \n",
              "3           50000       2          2             1    37                0   \n",
              "4           50000       1          2             1    57                0   \n",
              "5           50000       1          1             2    37                0   \n",
              "\n",
              "   pago_sep  factura_sep  default_oct  \n",
              "0         0            0            1  \n",
              "2     15549         5000            0  \n",
              "3     29547         1000            0  \n",
              "4     19131          679            0  \n",
              "5     20024          800            0  "
            ]
          },
          "execution_count": 12,
          "metadata": {},
          "output_type": "execute_result"
        }
      ],
      "source": [
        "df.head()"
      ]
    },
    {
      "cell_type": "markdown",
      "metadata": {
        "id": "yWlt5dV154ZU"
      },
      "source": [
        "---"
      ]
    },
    {
      "cell_type": "markdown",
      "metadata": {
        "id": "i0gKwRDvpfdi"
      },
      "source": [
        "Buscamos predecir si un cliente activo cumplirá o no con sus obligaciones de deuda en el período siguiente, tomando como variable objetivo `default_oct`. Se trata de un problema de ***clasificación***, donde nos interesa analizar si el límite de crédito, las características demográficas y el comportamiento previo del cliente influyen en la probabilidad de impago. Hacer esta predicción correctamente permitiría a la entidad crediticia ajustar los límites otorgados, priorizar gestiones de cobranza o anticipar provisiones por riesgo.\n",
        "\n",
        "A la hora de evaluar el modelo, ya anticipamos que el ***accuracy*** puede ser engañoso dado que la variable *target* está desbalanceada. Por eso, pondremos especial atención en el ***recall***, para capturar la mayor cantidad posible de clientes que efectivamente incumplen su pago y que representan el mayor riesgo (disminuir la cantidad de falsos negativos). Al mismo tiempo, buscaremos mantener un ***precision*** adecuado para no sobrecargar las gestiones de cobranza ni afectar innecesariamente a clientes que sí cumplen sus obligaciones (falsos positivos en nuestro caso).\n",
        "\n",
        "Para evaluar el equilibrio general de los modelos usaremos el ***F1-score*** y el ***AUC-ROC***.\n",
        "\n"
      ]
    },
    {
      "cell_type": "markdown",
      "metadata": {
        "id": "dICEOy8z66Ij"
      },
      "source": [
        "---\n"
      ]
    },
    {
      "cell_type": "markdown",
      "metadata": {},
      "source": [
        "A priori creemos que los meses adeudados por los clientes (`meses_deuda_sep`) pueden ser un buen predictor de futuros impagos (`default_oct`): un cliente con muchos meses atrasados indica un patrón de conducta que nos llevaría a pensar que al mes siguiente podría no pagar. Por otro lado, factores como el nivel de educación (`educacion`) o la edad (`edad`) podrían indicar una mayor responsabilidad en pagos por un mayor entendimiento de las consecuencias de la deuda. Para tener más certezas, decidimos calcular la matriz de correlaciones de nuestras variables."
      ]
    },
    {
      "cell_type": "code",
      "execution_count": null,
      "metadata": {
        "cellView": "form",
        "colab": {
          "base_uri": "https://localhost:8080/",
          "height": 657
        },
        "id": "n9cs7GjCycLA",
        "outputId": "fa0ab188-43bf-4341-8e2d-0251d78c1bde"
      },
      "outputs": [],
      "source": [
        "matriz_corr = df.corr()\n",
        "plt.figure(figsize=(8,6))\n",
        "sns.heatmap(matriz_corr, annot=True, cmap=\"coolwarm\", center=0)\n",
        "plt.xticks(rotation=45, ha=\"right\")\n",
        "plt.show()"
      ]
    },
    {
      "cell_type": "markdown",
      "metadata": {
        "id": "oc7xZzVXZjX0"
      },
      "source": [
        "El gráfico muestra los **coeficientes de correlación de Pearson** entre atributos. Elegimos `meses_deuda_sep` porque es el atributo con **correlación positiva** más alta con el *target*: mayores atrasos en septiembre se asocian con mayor probabilidad de incumplir en octubre. También elegimos `limite_credito`, que presenta una **correlación negativa** apreciable con `default_oct` (*target*): límites más bajos se observan con mayor frecuencia en clientes que caen en default. Ambos combinan poder predictivo (por su correlación con el **target**) y plausibilidad desde el comportamiento financiero reciente."
      ]
    },
    {
      "cell_type": "markdown",
      "metadata": {},
      "source": [
        "Como se puede ver en siguiente boxplot, los clientes que cayeron en **default** presentan un límite de crédito con mediana e IQR más bajos que los que no cayeron en **default**. Esto respalda la **correlación negativa** observada: límites menores se asocian con mayor probabilidad de incumplimiento. Si bien las distribuciones se superponen (no es determinístico), la diferencia de niveles sugiere que el límite de crédito aporta poder predictivo complementario al atraso reciente."
      ]
    },
    {
      "cell_type": "code",
      "execution_count": null,
      "metadata": {
        "cellView": "form",
        "colab": {
          "base_uri": "https://localhost:8080/",
          "height": 543
        },
        "id": "K9x9J2g3ZwRB",
        "outputId": "b5d483b7-3100-498a-f238-fe6f341649ee"
      },
      "outputs": [],
      "source": [
        "TARGET = \"default_oct\"\n",
        "VAR = \"limite_credito\"\n",
        "\n",
        "g0 = df.loc[df[TARGET] == 0, VAR].dropna()\n",
        "g1 = df.loc[df[TARGET] == 1, VAR].dropna()\n",
        "\n",
        "labels = [\"No default\", \"Default\"]\n",
        "colors = [\"#4C78A8\", \"#F58518\"]\n",
        "\n",
        "plt.figure(figsize=(6,5))\n",
        "bp = plt.boxplot([g0, g1],\n",
        "                 tick_labels=labels,\n",
        "                 showfliers=False,\n",
        "                 patch_artist=True)\n",
        "\n",
        "# Colorear cada box\n",
        "for patch, c in zip(bp['boxes'], colors):\n",
        "    patch.set_facecolor(c)\n",
        "    patch.set_alpha(0.7)\n",
        "# Ajustes de líneas/medianas\n",
        "for median in bp['medians']:\n",
        "    median.set_color(\"#222\")\n",
        "    median.set_linewidth(2)\n",
        "for whisker in bp['whiskers']:\n",
        "    whisker.set_color(\"#333\")\n",
        "for cap in bp['caps']:\n",
        "    cap.set_color(\"#333\")\n",
        "\n",
        "plt.ylabel(VAR)\n",
        "plt.xlabel(TARGET)\n",
        "\n",
        "plt.grid(axis=\"y\", alpha=0.2)\n",
        "plt.tight_layout()\n",
        "plt.show()\n"
      ]
    }
  ],
  "metadata": {
    "colab": {
      "provenance": []
    },
    "kernelspec": {
      "display_name": ".venv",
      "language": "python",
      "name": "python3"
    },
    "language_info": {
      "codemirror_mode": {
        "name": "ipython",
        "version": 3
      },
      "file_extension": ".py",
      "mimetype": "text/x-python",
      "name": "python",
      "nbconvert_exporter": "python",
      "pygments_lexer": "ipython3",
      "version": "3.13.1"
    }
  },
  "nbformat": 4,
  "nbformat_minor": 0
}
